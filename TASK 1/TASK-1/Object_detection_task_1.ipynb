{
 "cells": [
  {
   "cell_type": "markdown",
   "id": "cf0299d3",
   "metadata": {},
   "source": [
    "# Graduate Rotational Internship Program @The Sparks Foundation\n",
    "## **Author** : **SOORAJ TS**\n",
    "### **Task 1** : Object Detection\n",
    "\n",
    "* *Description : Implement an object detector which identifies the classes of the objects in an image or video*"
   ]
  },
  {
   "cell_type": "code",
   "execution_count": null,
   "id": "8a32dc26",
   "metadata": {},
   "outputs": [],
   "source": [
    "#importing opencv and numpy modules\n",
    "import cv2\n",
    "import numpy as np"
   ]
  },
  {
   "cell_type": "code",
   "execution_count": null,
   "id": "01dc0435",
   "metadata": {},
   "outputs": [],
   "source": [
    "#declaring threshold\n",
    "whT = 320"
   ]
  },
  {
   "cell_type": "code",
   "execution_count": null,
   "id": "88ccf7d6",
   "metadata": {},
   "outputs": [],
   "source": [
    "#loading coco names containing the objects\n",
    "className = []\n",
    "with open('coco.names', 'rt') as f:\n",
    "    classNames = f.read().splitlines()"
   ]
  },
  {
   "cell_type": "code",
   "execution_count": null,
   "id": "d9a116d8",
   "metadata": {},
   "outputs": [],
   "source": [
    "#loading the yolo weights and configuration files\n",
    "model_cfg = 'yolov3.cfg'\n",
    "model_weights = 'yolov3.weights'"
   ]
  },
  {
   "cell_type": "code",
   "execution_count": null,
   "id": "e7889de9",
   "metadata": {},
   "outputs": [],
   "source": [
    "#setting opencv as backend and target as cpu\n",
    "net = cv2.dnn.readNet(model_cfg, model_weights)\n",
    "net.setPreferableBackend(cv2.dnn.DNN_BACKEND_OPENCV)\n",
    "net.setPreferableTarget(cv2.dnn.DNN_TARGET_CPU)"
   ]
  },
  {
   "cell_type": "code",
   "execution_count": null,
   "id": "133e83ca",
   "metadata": {},
   "outputs": [],
   "source": [
    "#function for object detection \n",
    "def findObjects(output, img):\n",
    "    hT, wT, cT = img.shape\n",
    "    boxes = []\n",
    "    class_ids = []\n",
    "    confidences = []\n",
    "\n",
    "    for output in outputs:\n",
    "        for detection in output:\n",
    "            scores = detection[5:]\n",
    "            class_id = np.argmax(scores)\n",
    "            confidence = scores[class_id]\n",
    "            if confidence > 0.5:\n",
    "                w = int(detection[2]*wT)\n",
    "                h = int(detection[3]*hT)\n",
    "                x = int((detection[0]*wT)-w/2)\n",
    "                y = int((detection[1]*hT)-h/2)\n",
    "                boxes.append([x, y, w, h])\n",
    "                class_ids.append(class_id)\n",
    "                confidences.append(float(confidence))\n",
    "\n",
    "    indexes = cv2.dnn.NMSBoxes(boxes, confidences, 0.5, nms_threshold=0.3)\n",
    "    print(indexes)\n",
    "    \n",
    "    #setting the color and font to be displayed\n",
    "    font = cv2.FONT_HERSHEY_SIMPLEX\n",
    "    colors = np.random.uniform(0, 255, size=(len(boxes), 3))\n",
    "    \n",
    "    for i in indexes.flatten():\n",
    "        x, y, w, h = boxes[i]\n",
    "        label = str(classNames[class_ids[i]])\n",
    "        confidence = str(round(confidences[i],2))\n",
    "        color = colors[i]\n",
    "        cv2.rectangle(img, (x, y), (x+w, y+h), color, 2)\n",
    "        cv2.putText(img, label + \" \" + confidence, (x, y+20), font, 0.6, (255, 0, 255), 2)"
   ]
  },
  {
   "cell_type": "code",
   "execution_count": null,
   "id": "7bae2868",
   "metadata": {},
   "outputs": [],
   "source": [
    "#opencv code for loading video\n",
    "cap = cv2.VideoCapture('Bean video.mp4')\n",
    "while True :\n",
    "    success, img = cap.read()\n",
    "    blob = cv2.dnn.blobFromImage(img, 1/255, (whT, whT), [0, 0, 0], 1, crop= False)\n",
    "    net.setInput(blob)\n",
    "\n",
    "    layerNames = net.getLayerNames()\n",
    "    out_Names = [layerNames[i[0]-1] for i in net.getUnconnectedOutLayers()]\n",
    "    print(out_Names)\n",
    "    \n",
    "    outputs = net.forward(out_Names)\n",
    "    findObjects(outputs, img)\n",
    "\n",
    "    cv2.imshow('image', img)\n",
    "    if cv2.waitKey(1) == 27:\n",
    "        break\n",
    "\n",
    "cap.release()\n",
    "cv2.destroyAllWindows()"
   ]
  },
  {
   "cell_type": "code",
   "execution_count": null,
   "id": "445b8947",
   "metadata": {
    "scrolled": true
   },
   "outputs": [],
   "source": []
  },
  {
   "cell_type": "code",
   "execution_count": null,
   "id": "85b89201",
   "metadata": {
    "scrolled": false
   },
   "outputs": [],
   "source": []
  },
  {
   "cell_type": "code",
   "execution_count": null,
   "id": "4592c3de",
   "metadata": {},
   "outputs": [],
   "source": []
  },
  {
   "cell_type": "code",
   "execution_count": null,
   "id": "7cccf4a5",
   "metadata": {},
   "outputs": [],
   "source": []
  }
 ],
 "metadata": {
  "interpreter": {
   "hash": "fddd60310b09314add61920b7e6f1e7705dbb165377f483e33393e9a4445fa67"
  },
  "kernelspec": {
   "display_name": "Python 3 (ipykernel)",
   "language": "python",
   "name": "python3"
  },
  "language_info": {
   "codemirror_mode": {
    "name": "ipython",
    "version": 3
   },
   "file_extension": ".py",
   "mimetype": "text/x-python",
   "name": "python",
   "nbconvert_exporter": "python",
   "pygments_lexer": "ipython3",
   "version": "3.8.3"
  }
 },
 "nbformat": 4,
 "nbformat_minor": 5
}
